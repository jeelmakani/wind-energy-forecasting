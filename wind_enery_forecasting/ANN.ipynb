{
 "cells": [
  {
   "cell_type": "code",
   "execution_count": 39,
   "metadata": {},
   "outputs": [],
   "source": [
    "import numpy as np\n",
    "import pandas as pd\n",
    "import matplotlib.pyplot as plt\n",
    "from sklearn.metrics import mean_absolute_error, mean_squared_error\n",
    "\n",
    "\n",
    "import tensorflow as tf\n",
    "from keras.models import Sequential\n",
    "from keras.layers import Dense, LSTM, Bidirectional\n",
    "\n"
   ]
  },
  {
   "cell_type": "code",
   "execution_count": 40,
   "metadata": {},
   "outputs": [],
   "source": [
    "%store -r data\n",
    "train = data[data.year < 2019]\n",
    "valid = data[data.year >= 2019]\n",
    "\n",
    "%store -r data_x\n",
    "features = data_x.columns\n",
    "\n"
   ]
  },
  {
   "cell_type": "code",
   "execution_count": 41,
   "metadata": {},
   "outputs": [],
   "source": [
    "X_train, X_valid, Y_train, Y_valid=train[features], valid[features], train[\"wind_generation_actual\"], valid[\"wind_generation_actual\"]\n",
    "X_train, X_valid = np.array(X_train), np.array(X_valid)\n",
    "\n",
    "X_train_array = np.asarray(X_train.reshape((X_train.shape[0], 1, X_train.shape[1])))\n",
    "X_valid_array = np.asarray(X_valid.reshape(X_valid.shape[0], 1, X_valid.shape[1]))\n",
    "Y_train_array = np.asarray(Y_train) \n",
    "Y_valid_array = np.asarray(Y_valid)"
   ]
  },
  {
   "cell_type": "code",
   "execution_count": 42,
   "metadata": {},
   "outputs": [
    {
     "data": {
      "text/plain": [
       "(1462, 12)"
      ]
     },
     "execution_count": 42,
     "metadata": {},
     "output_type": "execute_result"
    }
   ],
   "source": [
    "X_train.shape"
   ]
  },
  {
   "cell_type": "code",
   "execution_count": 43,
   "metadata": {},
   "outputs": [
    {
     "data": {
      "text/plain": [
       "(365, 1, 12)"
      ]
     },
     "execution_count": 43,
     "metadata": {},
     "output_type": "execute_result"
    }
   ],
   "source": [
    "X_valid_array.shape"
   ]
  },
  {
   "cell_type": "code",
   "execution_count": 44,
   "metadata": {},
   "outputs": [],
   "source": [
    "ann_model = Sequential([\n",
    "    Dense(32, activation=\"relu\", input_shape=(1, X_train_array.shape[2])),\n",
    "    Dense(8, activation=\"relu\"),\n",
    "    Dense(1)\n",
    "    ])"
   ]
  },
  {
   "cell_type": "code",
   "execution_count": 45,
   "metadata": {},
   "outputs": [],
   "source": [
    "ann_model.compile(loss=tf.losses.MeanSquaredError(),\n",
    "                optimizer=tf.optimizers.Adam(learning_rate = 0.001),\n",
    "                metrics=[tf.metrics.RootMeanSquaredError()])"
   ]
  },
  {
   "cell_type": "code",
   "execution_count": 46,
   "metadata": {},
   "outputs": [
    {
     "name": "stdout",
     "output_type": "stream",
     "text": [
      "Epoch 1/150\n",
      "12/12 [==============================] - 1s 15ms/step - loss: 49658388480.0000 - root_mean_squared_error: 223391.4531 - val_loss: 55275802624.0000 - val_root_mean_squared_error: 234495.4531\n",
      "Epoch 2/150\n",
      "12/12 [==============================] - 0s 3ms/step - loss: 44342464512.0000 - root_mean_squared_error: 210728.4531 - val_loss: 51426762752.0000 - val_root_mean_squared_error: 226297.6406\n",
      "Epoch 3/150\n",
      "12/12 [==============================] - 0s 3ms/step - loss: 43558944768.0000 - root_mean_squared_error: 207984.1719 - val_loss: 52131905536.0000 - val_root_mean_squared_error: 227796.3906\n",
      "Epoch 4/150\n",
      "12/12 [==============================] - 0s 4ms/step - loss: 42765295616.0000 - root_mean_squared_error: 207458.7812 - val_loss: 50563072000.0000 - val_root_mean_squared_error: 224381.2344\n",
      "Epoch 5/150\n",
      "12/12 [==============================] - 0s 4ms/step - loss: 41882497024.0000 - root_mean_squared_error: 204689.4844 - val_loss: 49791586304.0000 - val_root_mean_squared_error: 222686.1250\n",
      "Epoch 6/150\n",
      "12/12 [==============================] - 0s 4ms/step - loss: 41390661632.0000 - root_mean_squared_error: 203118.5469 - val_loss: 49666105344.0000 - val_root_mean_squared_error: 222410.4219\n",
      "Epoch 7/150\n",
      "12/12 [==============================] - 0s 4ms/step - loss: 40891531264.0000 - root_mean_squared_error: 202798.5781 - val_loss: 49235394560.0000 - val_root_mean_squared_error: 221450.7188\n",
      "Epoch 8/150\n",
      "12/12 [==============================] - 0s 4ms/step - loss: 40482725888.0000 - root_mean_squared_error: 201254.3438 - val_loss: 48286507008.0000 - val_root_mean_squared_error: 219321.0000\n",
      "Epoch 9/150\n",
      "12/12 [==============================] - 0s 4ms/step - loss: 40212557824.0000 - root_mean_squared_error: 200932.6406 - val_loss: 49239162880.0000 - val_root_mean_squared_error: 221442.7031\n",
      "Epoch 10/150\n",
      "12/12 [==============================] - 0s 4ms/step - loss: 39821090816.0000 - root_mean_squared_error: 200031.3281 - val_loss: 48053014528.0000 - val_root_mean_squared_error: 218784.4062\n",
      "Epoch 11/150\n",
      "12/12 [==============================] - 0s 3ms/step - loss: 39463063552.0000 - root_mean_squared_error: 197853.7344 - val_loss: 48267411456.0000 - val_root_mean_squared_error: 219255.5000\n",
      "Epoch 12/150\n",
      "12/12 [==============================] - 0s 4ms/step - loss: 38971908096.0000 - root_mean_squared_error: 198303.7656 - val_loss: 47626592256.0000 - val_root_mean_squared_error: 217806.7500\n",
      "Epoch 13/150\n",
      "12/12 [==============================] - 0s 4ms/step - loss: 38904401920.0000 - root_mean_squared_error: 197859.8750 - val_loss: 47255633920.0000 - val_root_mean_squared_error: 216965.3594\n",
      "Epoch 14/150\n",
      "12/12 [==============================] - 0s 3ms/step - loss: 38323982336.0000 - root_mean_squared_error: 196219.9844 - val_loss: 48413810688.0000 - val_root_mean_squared_error: 219554.2500\n",
      "Epoch 15/150\n",
      "12/12 [==============================] - 0s 3ms/step - loss: 38085324800.0000 - root_mean_squared_error: 194731.9375 - val_loss: 47506087936.0000 - val_root_mean_squared_error: 217527.2969\n",
      "Epoch 16/150\n",
      "12/12 [==============================] - 0s 3ms/step - loss: 37611659264.0000 - root_mean_squared_error: 193807.9688 - val_loss: 46949187584.0000 - val_root_mean_squared_error: 216292.4688\n",
      "Epoch 17/150\n",
      "12/12 [==============================] - 0s 3ms/step - loss: 37062635520.0000 - root_mean_squared_error: 192652.3594 - val_loss: 47657222144.0000 - val_root_mean_squared_error: 217891.9531\n",
      "Epoch 18/150\n",
      "12/12 [==============================] - 0s 4ms/step - loss: 36821225472.0000 - root_mean_squared_error: 192000.6875 - val_loss: 46969544704.0000 - val_root_mean_squared_error: 216368.0156\n",
      "Epoch 19/150\n",
      "12/12 [==============================] - 0s 4ms/step - loss: 36342403072.0000 - root_mean_squared_error: 190046.3750 - val_loss: 47167418368.0000 - val_root_mean_squared_error: 216827.9531\n",
      "Epoch 20/150\n",
      "12/12 [==============================] - 0s 3ms/step - loss: 36037627904.0000 - root_mean_squared_error: 190203.3438 - val_loss: 48614596608.0000 - val_root_mean_squared_error: 220055.3125\n",
      "Epoch 21/150\n",
      "12/12 [==============================] - 0s 4ms/step - loss: 36215193600.0000 - root_mean_squared_error: 190557.0781 - val_loss: 45984804864.0000 - val_root_mean_squared_error: 214222.1250\n",
      "Epoch 22/150\n",
      "12/12 [==============================] - 0s 4ms/step - loss: 35629928448.0000 - root_mean_squared_error: 189223.8906 - val_loss: 48310632448.0000 - val_root_mean_squared_error: 219391.8125\n",
      "Epoch 23/150\n",
      "12/12 [==============================] - 0s 4ms/step - loss: 35637440512.0000 - root_mean_squared_error: 188743.8594 - val_loss: 48357154816.0000 - val_root_mean_squared_error: 219509.6094\n",
      "Epoch 24/150\n",
      "12/12 [==============================] - 0s 4ms/step - loss: 35315822592.0000 - root_mean_squared_error: 188547.9062 - val_loss: 47274139648.0000 - val_root_mean_squared_error: 217153.0625\n",
      "Epoch 25/150\n",
      "12/12 [==============================] - 0s 4ms/step - loss: 35197444096.0000 - root_mean_squared_error: 187296.9375 - val_loss: 47424356352.0000 - val_root_mean_squared_error: 217515.9219\n",
      "Epoch 26/150\n",
      "12/12 [==============================] - 0s 4ms/step - loss: 35068424192.0000 - root_mean_squared_error: 186602.0312 - val_loss: 49087725568.0000 - val_root_mean_squared_error: 221184.5312\n",
      "Epoch 27/150\n",
      "12/12 [==============================] - 0s 3ms/step - loss: 35015884800.0000 - root_mean_squared_error: 187202.5156 - val_loss: 48447188992.0000 - val_root_mean_squared_error: 219793.0781\n",
      "Epoch 28/150\n",
      "12/12 [==============================] - 0s 3ms/step - loss: 34986983424.0000 - root_mean_squared_error: 187069.1719 - val_loss: 49877155840.0000 - val_root_mean_squared_error: 222912.1875\n",
      "Epoch 29/150\n",
      "12/12 [==============================] - 0s 3ms/step - loss: 34864238592.0000 - root_mean_squared_error: 186738.4844 - val_loss: 47076364288.0000 - val_root_mean_squared_error: 216810.7812\n",
      "Epoch 30/150\n",
      "12/12 [==============================] - 0s 3ms/step - loss: 34982469632.0000 - root_mean_squared_error: 186964.5625 - val_loss: 47917621248.0000 - val_root_mean_squared_error: 218648.4844\n",
      "Epoch 31/150\n",
      "12/12 [==============================] - 0s 3ms/step - loss: 34739884032.0000 - root_mean_squared_error: 187096.5938 - val_loss: 48228917248.0000 - val_root_mean_squared_error: 219335.6250\n",
      "Epoch 32/150\n",
      "12/12 [==============================] - 0s 4ms/step - loss: 34613776384.0000 - root_mean_squared_error: 185702.5000 - val_loss: 48425365504.0000 - val_root_mean_squared_error: 219767.1719\n",
      "Epoch 33/150\n",
      "12/12 [==============================] - 0s 4ms/step - loss: 34753597440.0000 - root_mean_squared_error: 186948.1562 - val_loss: 48821280768.0000 - val_root_mean_squared_error: 220626.5000\n",
      "Epoch 34/150\n",
      "12/12 [==============================] - 0s 4ms/step - loss: 34536882176.0000 - root_mean_squared_error: 185679.0000 - val_loss: 47221374976.0000 - val_root_mean_squared_error: 217159.8125\n",
      "Epoch 35/150\n",
      "12/12 [==============================] - 0s 4ms/step - loss: 34588512256.0000 - root_mean_squared_error: 186194.8594 - val_loss: 51078381568.0000 - val_root_mean_squared_error: 225516.4219\n",
      "Epoch 36/150\n",
      "12/12 [==============================] - 0s 4ms/step - loss: 34647650304.0000 - root_mean_squared_error: 186051.4531 - val_loss: 47842082816.0000 - val_root_mean_squared_error: 218524.8906\n",
      "Epoch 37/150\n",
      "12/12 [==============================] - 0s 4ms/step - loss: 34501103616.0000 - root_mean_squared_error: 185759.5938 - val_loss: 48467124224.0000 - val_root_mean_squared_error: 219876.8281\n",
      "Epoch 38/150\n",
      "12/12 [==============================] - 0s 3ms/step - loss: 34535849984.0000 - root_mean_squared_error: 185938.8125 - val_loss: 48941568000.0000 - val_root_mean_squared_error: 220905.4375\n",
      "Epoch 39/150\n",
      "12/12 [==============================] - 0s 3ms/step - loss: 34491740160.0000 - root_mean_squared_error: 185830.9219 - val_loss: 49025318912.0000 - val_root_mean_squared_error: 221078.1719\n",
      "Epoch 40/150\n",
      "12/12 [==============================] - 0s 4ms/step - loss: 34507988992.0000 - root_mean_squared_error: 186164.1094 - val_loss: 47724253184.0000 - val_root_mean_squared_error: 218241.4219\n",
      "Epoch 41/150\n",
      " 1/12 [=>............................] - ETA: 0s - loss: 39873806336.0000 - root_mean_squared_error: 199684.2656"
     ]
    }
   ],
   "source": [
    "history = ann_model.fit(X_train_array, Y_train_array, \n",
    "     validation_data=(X_valid_array, Y_valid_array),\n",
    "     epochs=150, verbose=1, batch_size = 128)"
   ]
  },
  {
   "cell_type": "code",
   "execution_count": null,
   "metadata": {},
   "outputs": [],
   "source": [
    "annforecast = ann_model.predict(X_valid_array)\n",
    "valid[\"Forecast_ANN\"] = annforecast.squeeze()"
   ]
  },
  {
   "cell_type": "code",
   "execution_count": null,
   "metadata": {},
   "outputs": [],
   "source": [
    "valid[[\"wind_generation_actual\", \"Forecast_ANN\"]].plot(figsize=(14, 7))"
   ]
  },
  {
   "cell_type": "code",
   "execution_count": null,
   "metadata": {},
   "outputs": [],
   "source": [
    "ann_rmse = np.sqrt(mean_squared_error(valid[\"wind_generation_actual\"], valid.Forecast_ANN))\n",
    "ann_mae = mean_absolute_error(valid[\"wind_generation_actual\"], valid.Forecast_ANN)\n",
    "\n",
    "print(\"RMSE of ANN:\", ann_rmse)\n",
    "print(\"\\nMAE of ANN:\", ann_mae)"
   ]
  }
 ],
 "metadata": {
  "kernelspec": {
   "display_name": "Python 3.10.4 ('env': venv)",
   "language": "python",
   "name": "python3"
  },
  "language_info": {
   "codemirror_mode": {
    "name": "ipython",
    "version": 3
   },
   "file_extension": ".py",
   "mimetype": "text/x-python",
   "name": "python",
   "nbconvert_exporter": "python",
   "pygments_lexer": "ipython3",
   "version": "3.10.4"
  },
  "orig_nbformat": 4,
  "vscode": {
   "interpreter": {
    "hash": "fbbcf180ed81769f896e61eb7ef4695c47ce53671773194c5912c7c5fbeb39f6"
   }
  }
 },
 "nbformat": 4,
 "nbformat_minor": 2
}
